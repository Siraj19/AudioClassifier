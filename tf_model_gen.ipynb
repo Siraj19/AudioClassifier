{
 "cells": [
  {
   "cell_type": "markdown",
   "metadata": {},
   "source": [
    "Importing relevant libraries"
   ]
  },
  {
   "cell_type": "code",
   "execution_count": 1,
   "metadata": {},
   "outputs": [],
   "source": [
    "import os\n",
    "import requests\n",
    "import tarfile\n",
    "import librosa\n",
    "import librosa.display\n",
    "import tensorflow as tf\n",
    "from tensorflow.keras.models import load_model, Sequential\n",
    "from tensorflow.keras.layers import Conv2D, MaxPooling2D, Flatten, Dense, Dropout\n",
    "from tensorflow.keras.callbacks import ModelCheckpoint, EarlyStopping\n",
    "import numpy as np\n",
    "import matplotlib.pyplot as plt\n",
    "from sklearn.model_selection import train_test_split"
   ]
  },
  {
   "cell_type": "code",
   "execution_count": 2,
   "metadata": {},
   "outputs": [],
   "source": [
    "# Define the URL of the dataset and the target directory\n",
    "url = 'https://storage.googleapis.com/download.tensorflow.org/data/speech_commands_v0.02.tar.gz'\n",
    "dataset_tar = 'speech_commands_v0.02.tar.gz'\n",
    "extract_path = 'speech_commands'\n",
    "data_dir = 'speech_commands'"
   ]
  },
  {
   "cell_type": "code",
   "execution_count": 3,
   "metadata": {},
   "outputs": [],
   "source": [
    "# Declare labels manually\n",
    "labels = {'eight': 0, 'five': 1, 'four': 2, 'nine': 3, 'one': 4, 'seven': 5, 'six': 6, 'three': 7, 'two': 8,\n",
    "           'zero': 9}"
   ]
  },
  {
   "cell_type": "markdown",
   "metadata": {},
   "source": [
    "Downloading & unpacking dataset"
   ]
  },
  {
   "cell_type": "code",
   "execution_count": 4,
   "metadata": {},
   "outputs": [
    {
     "name": "stdout",
     "output_type": "stream",
     "text": [
      "speech_commands_v0.02.tar.gz already exists.\n",
      "Dataset already extracted at speech_commands.\n"
     ]
    }
   ],
   "source": [
    "# Download the dataset if it doesn't already exist\n",
    "if not os.path.exists(dataset_tar):\n",
    "    print(f\"Downloading {dataset_tar}...\")\n",
    "    response = requests.get(url, stream=True)\n",
    "    with open(dataset_tar, 'wb') as file:\n",
    "        for chunk in response.iter_content(chunk_size=1024):\n",
    "            if chunk:\n",
    "                file.write(chunk)\n",
    "    print(f\"\\n{dataset_tar} downloaded.\")\n",
    "else:\n",
    "    print(f\"{dataset_tar} already exists.\")\n",
    "\n",
    "# Extract the dataset if it hasn't been extracted already\n",
    "if not os.path.exists(extract_path):\n",
    "    print(f\"Extracting {dataset_tar}...\")\n",
    "    with tarfile.open(dataset_tar, 'r:gz') as tar:\n",
    "        tar.extractall(path=extract_path)\n",
    "    print(\"Extraction complete.\")\n",
    "else:\n",
    "    print(f\"Dataset already extracted at {extract_path}.\")\n"
   ]
  },
  {
   "cell_type": "markdown",
   "metadata": {},
   "source": [
    "Loading dataset functions.\n",
    "Prefered due to RAM limitation: load_data_by_portions"
   ]
  },
  {
   "cell_type": "code",
   "execution_count": 5,
   "metadata": {},
   "outputs": [],
   "source": [
    "def load_data(data_dir, labels, max_len=None):\n",
    "  \"\"\"Loads audio files, assigns labels, and pads data to a specified maximum length.\n",
    "\n",
    "  Args:\n",
    "    data_dir: Path to the directory containing speech command subdirectories.\n",
    "    labels: Dictionary mapping words to their integer labels (optional).\n",
    "    max_len: Maximum length for padding audio data (in samples) (optional).\n",
    "\n",
    "  Returns:\n",
    "    A tuple containing three lists: padded audio data, original lengths, and corresponding labels.\n",
    "  \"\"\"\n",
    "\n",
    "  padded_audio = []\n",
    "  original_lengths = []\n",
    "  target_labels = []\n",
    "\n",
    "  for word, label in labels.items():\n",
    "    word_dir = os.path.join(data_dir, word)\n",
    "\n",
    "    for filename in os.listdir(word_dir):\n",
    "      filepath = os.path.join(word_dir, filename)\n",
    "      if not filepath.endswith('.wav'):\n",
    "        continue  # Skip non-wav files\n",
    "\n",
    "      y, sr = librosa.load(filepath, sr=None)  # Load without resampling\n",
    "\n",
    "      original_lengths.append(len(y))  # Store original length\n",
    "\n",
    "      # Pad audio data with zeros if necessary\n",
    "      if max_len is not None and len(y) < max_len:\n",
    "        padding = np.zeros(max_len - len(y))\n",
    "        y_padded = np.concatenate((y, padding))\n",
    "      else:\n",
    "        y_padded = y  # No padding needed\n",
    "\n",
    "      padded_audio.append(y_padded)\n",
    "      target_labels.append(label)\n",
    "\n",
    "  return padded_audio, original_lengths, target_labels\n"
   ]
  },
  {
   "cell_type": "code",
   "execution_count": 6,
   "metadata": {},
   "outputs": [],
   "source": [
    "def load_data_by_portions(data_dir, labels, max_len=None, portion_index=1, total_portions=1):\n",
    "    \"\"\"Loads audio files, assigns labels, and pads data to a specified maximum length.\n",
    "\n",
    "    Args:\n",
    "        data_dir: Path to the directory containing speech command subdirectories.\n",
    "        labels: Dictionary mapping words to their integer labels.\n",
    "        max_len: Maximum length for padding audio data (in samples) (optional).\n",
    "        portion_index: The index of the portion to load (1-based index).\n",
    "        total_portions: The total number of portions to divide the dataset into.\n",
    "\n",
    "    Returns:\n",
    "        A tuple containing three lists: padded audio data, original lengths, and corresponding labels.\n",
    "    \"\"\"\n",
    "\n",
    "    if portion_index < 1 or portion_index > total_portions:\n",
    "        raise ValueError(\"portion_index must be between 1 and total_portions\")\n",
    "\n",
    "    padded_audio = []\n",
    "    original_lengths = []\n",
    "    target_labels = []\n",
    "\n",
    "    for word, label in labels.items():\n",
    "        word_dir = os.path.join(data_dir, word)\n",
    "        files = [f for f in os.listdir(word_dir) if f.endswith('.wav')]\n",
    "\n",
    "        # Calculate the size of each portion\n",
    "        portion_size = len(files) // total_portions\n",
    "        start_index = (portion_index - 1) * portion_size\n",
    "        end_index = start_index + portion_size\n",
    "\n",
    "        if portion_index == total_portions:  # Handle the last portion\n",
    "            end_index = len(files)\n",
    "\n",
    "        for filename in files[start_index:end_index]:\n",
    "            filepath = os.path.join(word_dir, filename)\n",
    "            y, sr = librosa.load(filepath, sr=None)  # Load without resampling\n",
    "\n",
    "            original_lengths.append(len(y))  # Store original length\n",
    "\n",
    "            # Pad audio data with zeros if necessary\n",
    "            if max_len is not None and len(y) < max_len:\n",
    "                padding = np.zeros(max_len - len(y))\n",
    "                y_padded = np.concatenate((y, padding))\n",
    "            else:\n",
    "                y_padded = y  # No padding needed\n",
    "\n",
    "            padded_audio.append(y_padded)\n",
    "            target_labels.append(label)\n",
    "\n",
    "    return padded_audio, original_lengths, target_labels"
   ]
  },
  {
   "cell_type": "markdown",
   "metadata": {},
   "source": [
    "Loading dataset to the RAM"
   ]
  },
  {
   "cell_type": "code",
   "execution_count": 7,
   "metadata": {},
   "outputs": [],
   "source": [
    "# Load the data using the defined function\n",
    "padded_audio, original_lengths, target_labels = load_data_by_portions(data_dir, labels, 16000, 2, 5)"
   ]
  },
  {
   "cell_type": "markdown",
   "metadata": {},
   "source": [
    "Plotting signal in time-domain, frequency-domain, and MFCCs of the audio signal"
   ]
  },
  {
   "cell_type": "code",
   "execution_count": 8,
   "metadata": {},
   "outputs": [],
   "source": [
    "def plot_examples(features, target_labels, labels):\n",
    "    \"\"\"\n",
    "    Plots time-domain signals, FFTs, and MFCCs for one example of each label.\n",
    "\n",
    "    Args:\n",
    "        features: List or array of audio features.\n",
    "        target_labels: List or array of corresponding labels.\n",
    "        labels: Dictionary mapping words to their integer labels.\n",
    "    \"\"\"\n",
    "    # Reverse the labels dictionary to map integers to label names\n",
    "    label_names = {v: k for k, v in labels.items()}\n",
    "\n",
    "    # Find one example for each label\n",
    "    example_indices = {label: None for label in labels.values()}\n",
    "    for i, label in enumerate(target_labels):\n",
    "        if example_indices[label] is None:\n",
    "            example_indices[label] = i\n",
    "        if all(v is not None for v in example_indices.values()):\n",
    "            break\n",
    "\n",
    "    # Plot time-domain signal, FFT, and MFCC for each example\n",
    "    fig, axes = plt.subplots(len(labels), 3, figsize=(18, 18))\n",
    "    fig.suptitle('Time-domain signal, FFT, and MFCC for each label')\n",
    "\n",
    "    for i, (label, index) in enumerate(example_indices.items()):\n",
    "        ax_time = axes[i, 0]\n",
    "        ax_fft = axes[i, 1]\n",
    "        ax_mfcc = axes[i, 2]\n",
    "\n",
    "        # Get the example audio and label\n",
    "        audio = features[index]\n",
    "        label_name = label_names[label]\n",
    "\n",
    "        # Plot the time-domain signal\n",
    "        ax_time.plot(audio)\n",
    "        ax_time.set_title(f'Time-domain signal for label: {label_name}')\n",
    "        ax_time.set_xlabel('Sample')\n",
    "        ax_time.set_ylabel('Amplitude')\n",
    "\n",
    "        # Compute and plot the FFT\n",
    "        fft = np.fft.fft(audio)\n",
    "        freqs = np.fft.fftfreq(len(fft), d=1/44100)  # Compute frequency bins correctly\n",
    "        ax_fft.plot(freqs[:len(freqs)//2], np.abs(fft)[:len(freqs)//2])  # Plot up to Nyquist frequency\n",
    "        ax_fft.set_title(f'FFT for label: {label_name}')\n",
    "        ax_fft.set_xlabel('Frequency (Hz)')\n",
    "        ax_fft.set_ylabel('Magnitude')\n",
    "\n",
    "        # Compute and plot the MFCCs\n",
    "        sr = 44100  # Assuming a sample rate of 44.1 kHz\n",
    "        mfccs = librosa.feature.mfcc(y=audio, sr=sr, n_mfcc=20)\n",
    "        img = librosa.display.specshow(mfccs, x_axis='time', ax=ax_mfcc)\n",
    "        ax_mfcc.set_title(f'MFCC for label: {label_name}')\n",
    "        fig.colorbar(img, ax=ax_mfcc, format='%+2.0f dB')\n",
    "\n",
    "    plt.tight_layout(rect=[0, 0, 1, 0.96])  # Adjust layout to fit the suptitle\n",
    "    plt.show()"
   ]
  },
  {
   "cell_type": "code",
   "execution_count": 36,
   "metadata": {},
   "outputs": [
    {
     "ename": "NameError",
     "evalue": "name 'padded_audio' is not defined",
     "output_type": "error",
     "traceback": [
      "\u001b[1;31m---------------------------------------------------------------------------\u001b[0m",
      "\u001b[1;31mNameError\u001b[0m                                 Traceback (most recent call last)",
      "\u001b[1;32m~\\AppData\\Local\\Temp\\ipykernel_14036\\3842761556.py\u001b[0m in \u001b[0;36m<module>\u001b[1;34m\u001b[0m\n\u001b[0;32m      1\u001b[0m \u001b[1;31m# Assuming `features` and `target_labels` are loaded from the previous steps\u001b[0m\u001b[1;33m\u001b[0m\u001b[1;33m\u001b[0m\u001b[1;33m\u001b[0m\u001b[0m\n\u001b[1;32m----> 2\u001b[1;33m \u001b[0mplot_examples\u001b[0m\u001b[1;33m(\u001b[0m\u001b[0mpadded_audio\u001b[0m\u001b[1;33m,\u001b[0m \u001b[0mtarget_labels\u001b[0m\u001b[1;33m,\u001b[0m \u001b[0mlabels\u001b[0m\u001b[1;33m)\u001b[0m\u001b[1;33m\u001b[0m\u001b[1;33m\u001b[0m\u001b[0m\n\u001b[0m",
      "\u001b[1;31mNameError\u001b[0m: name 'padded_audio' is not defined"
     ]
    }
   ],
   "source": [
    "# Assuming `features` and `target_labels` are loaded from the previous steps\n",
    "plot_examples(padded_audio, target_labels, labels)"
   ]
  },
  {
   "cell_type": "markdown",
   "metadata": {},
   "source": [
    "Now creating Spectograms that would later be fed to the NN."
   ]
  },
  {
   "cell_type": "code",
   "execution_count": 9,
   "metadata": {},
   "outputs": [],
   "source": [
    "# Parameters for the STFT\n",
    "n_fft = 2048  # Number of FFT components\n",
    "hop_length = 512  # Number of samples between successive frames"
   ]
  },
  {
   "cell_type": "code",
   "execution_count": 11,
   "metadata": {},
   "outputs": [],
   "source": [
    "# Function to convert audio signal to spectrogram\n",
    "def audio_to_spectrogram(audio, n_fft, hop_length):\n",
    "    # Compute the STFT\n",
    "    stft = librosa.stft(audio, n_fft=n_fft, hop_length=hop_length)\n",
    "    # Convert the complex-valued STFT to magnitude spectrogram\n",
    "    spectrogram = np.abs(stft)\n",
    "    return spectrogram"
   ]
  },
  {
   "cell_type": "code",
   "execution_count": 12,
   "metadata": {},
   "outputs": [
    {
     "name": "stdout",
     "output_type": "stream",
     "text": [
      "Shape of spectrograms: (7778, 1025, 32)\n"
     ]
    }
   ],
   "source": [
    "# Convert features and labels to tensors for TensorFlow compatibility\n",
    "#target_labels_tensor = tf.convert_to_tensor(target_labels)\n",
    "target_labels_tensor = np.asarray(target_labels)\n",
    "\n",
    "# Apply the conversion to all audio samples\n",
    "spectrograms = np.array([audio_to_spectrogram(audio, n_fft, hop_length) for audio in padded_audio])\n",
    "\n",
    "#print(\"Shape of original padded_audio_tensor:\", padded_audio_tensor.shape)\n",
    "print(\"Shape of spectrograms:\", spectrograms.shape)"
   ]
  },
  {
   "cell_type": "code",
   "execution_count": 13,
   "metadata": {},
   "outputs": [
    {
     "data": {
      "image/png": "[encoded data removed]",
      "text/plain": [
       "<Figure size 1000x400 with 2 Axes>"
      ]
     },
     "metadata": {},
     "output_type": "display_data"
    }
   ],
   "source": [
    "# Optional: Visualize the first spectrogram\n",
    "plt.figure(figsize=(10, 4))\n",
    "librosa.display.specshow(librosa.amplitude_to_db(spectrograms[1], ref=np.max), sr=16000, hop_length=hop_length, x_axis='time', y_axis='log')\n",
    "plt.colorbar(format='%+2.0f dB')\n",
    "plt.title('Spectrogram of the first audio sample')\n",
    "plt.tight_layout()\n",
    "plt.show()"
   ]
  },
  {
   "cell_type": "code",
   "execution_count": 14,
   "metadata": {},
   "outputs": [],
   "source": [
    "del data_dir\n",
    "del dataset_tar\n",
    "del extract_path\n",
    "del hop_length\n",
    "del labels\n",
    "del n_fft\n",
    "del original_lengths\n",
    "del padded_audio\n",
    "#del spectrograms\n",
    "del target_labels\n",
    "# del target_labels_tensor\n",
    "del url\n"
   ]
  },
  {
   "cell_type": "code",
   "execution_count": 15,
   "metadata": {},
   "outputs": [
    {
     "name": "stdout",
     "output_type": "stream",
     "text": [
      "(7778, 1025, 32)\n"
     ]
    }
   ],
   "source": [
    "print(spectrograms.shape)"
   ]
  },
  {
   "cell_type": "code",
   "execution_count": 16,
   "metadata": {},
   "outputs": [],
   "source": [
    "# Reshape spectrograms to add the channel dimension\n",
    "spectrograms = spectrograms[..., np.newaxis]  # Shape (11768, 1025, 32, 1)\n",
    "# Split data into training+validation and test sets\n",
    "X_train_val, X_test, y_train_val, y_test = train_test_split(spectrograms, target_labels_tensor, test_size=0.1, random_state=42)\n",
    "# Split training+validation set into training and validation sets\n",
    "X_train, X_val, y_train, y_val = train_test_split(X_train_val, y_train_val, test_size=0.15, random_state=42)\n"
   ]
  },
  {
   "cell_type": "code",
   "execution_count": 23,
   "metadata": {},
   "outputs": [],
   "source": [
    "model_path = 'model'\n",
    "saved_model_dir = 'model'\n",
    "tflite_model_path = 'tflite_quant_model.tflite'\n"
   ]
  },
  {
   "cell_type": "code",
   "execution_count": 18,
   "metadata": {},
   "outputs": [
    {
     "name": "stdout",
     "output_type": "stream",
     "text": [
      "Loading existing model...\n"
     ]
    }
   ],
   "source": [
    "# Check if the model already exists\n",
    "if os.path.exists(model_path):\n",
    "    print(\"Loading existing model...\")\n",
    "    model = load_model(model_path)\n",
    "else:\n",
    "    print(\"Creating a new model...\")\n",
    "    # Define the CNN model\n",
    "    model = Sequential([\n",
    "        Conv2D(32, (3, 3), activation='relu', input_shape=(spectrograms.shape[1], spectrograms.shape[2], 1)),\n",
    "        MaxPooling2D((2, 2)),\n",
    "        Dropout(0.25),\n",
    "\n",
    "        Conv2D(64, (3, 3), activation='relu'),\n",
    "        MaxPooling2D((2, 2)),\n",
    "        Dropout(0.25),\n",
    "\n",
    "        Flatten(),\n",
    "        Dense(128, activation='relu'),\n",
    "        Dropout(0.5),\n",
    "        Dense(len(labels), activation='softmax')  # Assuming 10 classes is len(labels)\n",
    "    ])\n",
    "\n",
    "# Compile the model\n",
    "model.compile(optimizer='adam',\n",
    "              loss='sparse_categorical_crossentropy',\n",
    "              metrics=['accuracy'])\n",
    "\n",
    "# Define early stopping\n",
    "early_stopping = EarlyStopping(monitor='val_loss', patience=5, restore_best_weights=True)\n",
    "\n",
    "# Define the ModelCheckpoint callback\n",
    "checkpoint_callback = ModelCheckpoint(filepath=model_path,\n",
    "                                      save_freq='epoch',\n",
    "                                      save_best_only=False,  # Save the model at the end of every epoch\n",
    "                                      save_format='tf')\n"
   ]
  },
  {
   "cell_type": "code",
   "execution_count": 19,
   "metadata": {},
   "outputs": [],
   "source": [
    "# Define early stopping\n",
    "early_stopping = EarlyStopping(monitor='val_loss', patience=5, restore_best_weights=True)\n",
    "\n",
    "# Define the ModelCheckpoint callback\n",
    "checkpoint_callback = ModelCheckpoint(filepath=model_path,\n",
    "                                      save_freq='epoch',\n",
    "                                      save_best_only=False,  # Save the model at the end of every epoch\n",
    "                                      save_format='tf')"
   ]
  },
  {
   "cell_type": "code",
   "execution_count": 20,
   "metadata": {},
   "outputs": [
    {
     "name": "stdout",
     "output_type": "stream",
     "text": [
      "Epoch 1/50\n",
      " 87/186 [=============>................] - ETA: 1:13 - loss: 0.7454 - accuracy: 0.7633"
     ]
    },
    {
     "ename": "KeyboardInterrupt",
     "evalue": "",
     "output_type": "error",
     "traceback": [
      "\u001b[1;31m---------------------------------------------------------------------------\u001b[0m",
      "\u001b[1;31mKeyboardInterrupt\u001b[0m                         Traceback (most recent call last)",
      "\u001b[1;32m~\\AppData\\Local\\Temp\\ipykernel_14036\\90331787.py\u001b[0m in \u001b[0;36m<module>\u001b[1;34m\u001b[0m\n\u001b[0;32m      4\u001b[0m                     \u001b[0mbatch_size\u001b[0m\u001b[1;33m=\u001b[0m\u001b[1;36m32\u001b[0m\u001b[1;33m,\u001b[0m\u001b[1;33m\u001b[0m\u001b[1;33m\u001b[0m\u001b[0m\n\u001b[0;32m      5\u001b[0m                     \u001b[0mvalidation_data\u001b[0m\u001b[1;33m=\u001b[0m\u001b[1;33m(\u001b[0m\u001b[0mX_val\u001b[0m\u001b[1;33m,\u001b[0m \u001b[0my_val\u001b[0m\u001b[1;33m)\u001b[0m\u001b[1;33m,\u001b[0m\u001b[1;33m\u001b[0m\u001b[1;33m\u001b[0m\u001b[0m\n\u001b[1;32m----> 6\u001b[1;33m                     callbacks=[early_stopping, checkpoint_callback])\n\u001b[0m",
      "\u001b[1;32mc:\\Users\\Siraj\\.conda\\envs\\TinyMLp\\lib\\site-packages\\keras\\utils\\traceback_utils.py\u001b[0m in \u001b[0;36merror_handler\u001b[1;34m(*args, **kwargs)\u001b[0m\n\u001b[0;32m     63\u001b[0m         \u001b[0mfiltered_tb\u001b[0m \u001b[1;33m=\u001b[0m \u001b[1;32mNone\u001b[0m\u001b[1;33m\u001b[0m\u001b[1;33m\u001b[0m\u001b[0m\n\u001b[0;32m     64\u001b[0m         \u001b[1;32mtry\u001b[0m\u001b[1;33m:\u001b[0m\u001b[1;33m\u001b[0m\u001b[1;33m\u001b[0m\u001b[0m\n\u001b[1;32m---> 65\u001b[1;33m             \u001b[1;32mreturn\u001b[0m \u001b[0mfn\u001b[0m\u001b[1;33m(\u001b[0m\u001b[1;33m*\u001b[0m\u001b[0margs\u001b[0m\u001b[1;33m,\u001b[0m \u001b[1;33m**\u001b[0m\u001b[0mkwargs\u001b[0m\u001b[1;33m)\u001b[0m\u001b[1;33m\u001b[0m\u001b[1;33m\u001b[0m\u001b[0m\n\u001b[0m\u001b[0;32m     66\u001b[0m         \u001b[1;32mexcept\u001b[0m \u001b[0mException\u001b[0m \u001b[1;32mas\u001b[0m \u001b[0me\u001b[0m\u001b[1;33m:\u001b[0m\u001b[1;33m\u001b[0m\u001b[1;33m\u001b[0m\u001b[0m\n\u001b[0;32m     67\u001b[0m             \u001b[0mfiltered_tb\u001b[0m \u001b[1;33m=\u001b[0m \u001b[0m_process_traceback_frames\u001b[0m\u001b[1;33m(\u001b[0m\u001b[0me\u001b[0m\u001b[1;33m.\u001b[0m\u001b[0m__traceback__\u001b[0m\u001b[1;33m)\u001b[0m\u001b[1;33m\u001b[0m\u001b[1;33m\u001b[0m\u001b[0m\n",
      "\u001b[1;32mc:\\Users\\Siraj\\.conda\\envs\\TinyMLp\\lib\\site-packages\\keras\\engine\\training.py\u001b[0m in \u001b[0;36mfit\u001b[1;34m(self, x, y, batch_size, epochs, verbose, callbacks, validation_split, validation_data, shuffle, class_weight, sample_weight, initial_epoch, steps_per_epoch, validation_steps, validation_batch_size, validation_freq, max_queue_size, workers, use_multiprocessing)\u001b[0m\n\u001b[0;32m   1562\u001b[0m                         ):\n\u001b[0;32m   1563\u001b[0m                             \u001b[0mcallbacks\u001b[0m\u001b[1;33m.\u001b[0m\u001b[0mon_train_batch_begin\u001b[0m\u001b[1;33m(\u001b[0m\u001b[0mstep\u001b[0m\u001b[1;33m)\u001b[0m\u001b[1;33m\u001b[0m\u001b[1;33m\u001b[0m\u001b[0m\n\u001b[1;32m-> 1564\u001b[1;33m                             \u001b[0mtmp_logs\u001b[0m \u001b[1;33m=\u001b[0m \u001b[0mself\u001b[0m\u001b[1;33m.\u001b[0m\u001b[0mtrain_function\u001b[0m\u001b[1;33m(\u001b[0m\u001b[0miterator\u001b[0m\u001b[1;33m)\u001b[0m\u001b[1;33m\u001b[0m\u001b[1;33m\u001b[0m\u001b[0m\n\u001b[0m\u001b[0;32m   1565\u001b[0m                             \u001b[1;32mif\u001b[0m \u001b[0mdata_handler\u001b[0m\u001b[1;33m.\u001b[0m\u001b[0mshould_sync\u001b[0m\u001b[1;33m:\u001b[0m\u001b[1;33m\u001b[0m\u001b[1;33m\u001b[0m\u001b[0m\n\u001b[0;32m   1566\u001b[0m                                 \u001b[0mcontext\u001b[0m\u001b[1;33m.\u001b[0m\u001b[0masync_wait\u001b[0m\u001b[1;33m(\u001b[0m\u001b[1;33m)\u001b[0m\u001b[1;33m\u001b[0m\u001b[1;33m\u001b[0m\u001b[0m\n",
      "\u001b[1;32mc:\\Users\\Siraj\\.conda\\envs\\TinyMLp\\lib\\site-packages\\tensorflow\\python\\util\\traceback_utils.py\u001b[0m in \u001b[0;36merror_handler\u001b[1;34m(*args, **kwargs)\u001b[0m\n\u001b[0;32m    148\u001b[0m     \u001b[0mfiltered_tb\u001b[0m \u001b[1;33m=\u001b[0m \u001b[1;32mNone\u001b[0m\u001b[1;33m\u001b[0m\u001b[1;33m\u001b[0m\u001b[0m\n\u001b[0;32m    149\u001b[0m     \u001b[1;32mtry\u001b[0m\u001b[1;33m:\u001b[0m\u001b[1;33m\u001b[0m\u001b[1;33m\u001b[0m\u001b[0m\n\u001b[1;32m--> 150\u001b[1;33m       \u001b[1;32mreturn\u001b[0m \u001b[0mfn\u001b[0m\u001b[1;33m(\u001b[0m\u001b[1;33m*\u001b[0m\u001b[0margs\u001b[0m\u001b[1;33m,\u001b[0m \u001b[1;33m**\u001b[0m\u001b[0mkwargs\u001b[0m\u001b[1;33m)\u001b[0m\u001b[1;33m\u001b[0m\u001b[1;33m\u001b[0m\u001b[0m\n\u001b[0m\u001b[0;32m    151\u001b[0m     \u001b[1;32mexcept\u001b[0m \u001b[0mException\u001b[0m \u001b[1;32mas\u001b[0m \u001b[0me\u001b[0m\u001b[1;33m:\u001b[0m\u001b[1;33m\u001b[0m\u001b[1;33m\u001b[0m\u001b[0m\n\u001b[0;32m    152\u001b[0m       \u001b[0mfiltered_tb\u001b[0m \u001b[1;33m=\u001b[0m \u001b[0m_process_traceback_frames\u001b[0m\u001b[1;33m(\u001b[0m\u001b[0me\u001b[0m\u001b[1;33m.\u001b[0m\u001b[0m__traceback__\u001b[0m\u001b[1;33m)\u001b[0m\u001b[1;33m\u001b[0m\u001b[1;33m\u001b[0m\u001b[0m\n",
      "\u001b[1;32mc:\\Users\\Siraj\\.conda\\envs\\TinyMLp\\lib\\site-packages\\tensorflow\\python\\eager\\def_function.py\u001b[0m in \u001b[0;36m__call__\u001b[1;34m(self, *args, **kwds)\u001b[0m\n\u001b[0;32m    913\u001b[0m \u001b[1;33m\u001b[0m\u001b[0m\n\u001b[0;32m    914\u001b[0m       \u001b[1;32mwith\u001b[0m \u001b[0mOptionalXlaContext\u001b[0m\u001b[1;33m(\u001b[0m\u001b[0mself\u001b[0m\u001b[1;33m.\u001b[0m\u001b[0m_jit_compile\u001b[0m\u001b[1;33m)\u001b[0m\u001b[1;33m:\u001b[0m\u001b[1;33m\u001b[0m\u001b[1;33m\u001b[0m\u001b[0m\n\u001b[1;32m--> 915\u001b[1;33m         \u001b[0mresult\u001b[0m \u001b[1;33m=\u001b[0m \u001b[0mself\u001b[0m\u001b[1;33m.\u001b[0m\u001b[0m_call\u001b[0m\u001b[1;33m(\u001b[0m\u001b[1;33m*\u001b[0m\u001b[0margs\u001b[0m\u001b[1;33m,\u001b[0m \u001b[1;33m**\u001b[0m\u001b[0mkwds\u001b[0m\u001b[1;33m)\u001b[0m\u001b[1;33m\u001b[0m\u001b[1;33m\u001b[0m\u001b[0m\n\u001b[0m\u001b[0;32m    916\u001b[0m \u001b[1;33m\u001b[0m\u001b[0m\n\u001b[0;32m    917\u001b[0m       \u001b[0mnew_tracing_count\u001b[0m \u001b[1;33m=\u001b[0m \u001b[0mself\u001b[0m\u001b[1;33m.\u001b[0m\u001b[0mexperimental_get_tracing_count\u001b[0m\u001b[1;33m(\u001b[0m\u001b[1;33m)\u001b[0m\u001b[1;33m\u001b[0m\u001b[1;33m\u001b[0m\u001b[0m\n",
      "\u001b[1;32mc:\\Users\\Siraj\\.conda\\envs\\TinyMLp\\lib\\site-packages\\tensorflow\\python\\eager\\def_function.py\u001b[0m in \u001b[0;36m_call\u001b[1;34m(self, *args, **kwds)\u001b[0m\n\u001b[0;32m    945\u001b[0m       \u001b[1;31m# In this case we have created variables on the first call, so we run the\u001b[0m\u001b[1;33m\u001b[0m\u001b[1;33m\u001b[0m\u001b[1;33m\u001b[0m\u001b[0m\n\u001b[0;32m    946\u001b[0m       \u001b[1;31m# defunned version which is guaranteed to never create variables.\u001b[0m\u001b[1;33m\u001b[0m\u001b[1;33m\u001b[0m\u001b[1;33m\u001b[0m\u001b[0m\n\u001b[1;32m--> 947\u001b[1;33m       \u001b[1;32mreturn\u001b[0m \u001b[0mself\u001b[0m\u001b[1;33m.\u001b[0m\u001b[0m_stateless_fn\u001b[0m\u001b[1;33m(\u001b[0m\u001b[1;33m*\u001b[0m\u001b[0margs\u001b[0m\u001b[1;33m,\u001b[0m \u001b[1;33m**\u001b[0m\u001b[0mkwds\u001b[0m\u001b[1;33m)\u001b[0m  \u001b[1;31m# pylint: disable=not-callable\u001b[0m\u001b[1;33m\u001b[0m\u001b[1;33m\u001b[0m\u001b[0m\n\u001b[0m\u001b[0;32m    948\u001b[0m     \u001b[1;32melif\u001b[0m \u001b[0mself\u001b[0m\u001b[1;33m.\u001b[0m\u001b[0m_stateful_fn\u001b[0m \u001b[1;32mis\u001b[0m \u001b[1;32mnot\u001b[0m \u001b[1;32mNone\u001b[0m\u001b[1;33m:\u001b[0m\u001b[1;33m\u001b[0m\u001b[1;33m\u001b[0m\u001b[0m\n\u001b[0;32m    949\u001b[0m       \u001b[1;31m# Release the lock early so that multiple threads can perform the call\u001b[0m\u001b[1;33m\u001b[0m\u001b[1;33m\u001b[0m\u001b[1;33m\u001b[0m\u001b[0m\n",
      "\u001b[1;32mc:\\Users\\Siraj\\.conda\\envs\\TinyMLp\\lib\\site-packages\\tensorflow\\python\\eager\\function.py\u001b[0m in \u001b[0;36m__call__\u001b[1;34m(self, *args, **kwargs)\u001b[0m\n\u001b[0;32m   2495\u001b[0m        filtered_flat_args) = self._maybe_define_function(args, kwargs)\n\u001b[0;32m   2496\u001b[0m     return graph_function._call_flat(\n\u001b[1;32m-> 2497\u001b[1;33m         filtered_flat_args, captured_inputs=graph_function.captured_inputs)  # pylint: disable=protected-access\n\u001b[0m\u001b[0;32m   2498\u001b[0m \u001b[1;33m\u001b[0m\u001b[0m\n\u001b[0;32m   2499\u001b[0m   \u001b[1;33m@\u001b[0m\u001b[0mproperty\u001b[0m\u001b[1;33m\u001b[0m\u001b[1;33m\u001b[0m\u001b[0m\n",
      "\u001b[1;32mc:\\Users\\Siraj\\.conda\\envs\\TinyMLp\\lib\\site-packages\\tensorflow\\python\\eager\\function.py\u001b[0m in \u001b[0;36m_call_flat\u001b[1;34m(self, args, captured_inputs, cancellation_manager)\u001b[0m\n\u001b[0;32m   1861\u001b[0m       \u001b[1;31m# No tape is watching; skip to running the function.\u001b[0m\u001b[1;33m\u001b[0m\u001b[1;33m\u001b[0m\u001b[1;33m\u001b[0m\u001b[0m\n\u001b[0;32m   1862\u001b[0m       return self._build_call_outputs(self._inference_function.call(\n\u001b[1;32m-> 1863\u001b[1;33m           ctx, args, cancellation_manager=cancellation_manager))\n\u001b[0m\u001b[0;32m   1864\u001b[0m     forward_backward = self._select_forward_and_backward_functions(\n\u001b[0;32m   1865\u001b[0m         \u001b[0margs\u001b[0m\u001b[1;33m,\u001b[0m\u001b[1;33m\u001b[0m\u001b[1;33m\u001b[0m\u001b[0m\n",
      "\u001b[1;32mc:\\Users\\Siraj\\.conda\\envs\\TinyMLp\\lib\\site-packages\\tensorflow\\python\\eager\\function.py\u001b[0m in \u001b[0;36mcall\u001b[1;34m(self, ctx, args, cancellation_manager)\u001b[0m\n\u001b[0;32m    502\u001b[0m               \u001b[0minputs\u001b[0m\u001b[1;33m=\u001b[0m\u001b[0margs\u001b[0m\u001b[1;33m,\u001b[0m\u001b[1;33m\u001b[0m\u001b[1;33m\u001b[0m\u001b[0m\n\u001b[0;32m    503\u001b[0m               \u001b[0mattrs\u001b[0m\u001b[1;33m=\u001b[0m\u001b[0mattrs\u001b[0m\u001b[1;33m,\u001b[0m\u001b[1;33m\u001b[0m\u001b[1;33m\u001b[0m\u001b[0m\n\u001b[1;32m--> 504\u001b[1;33m               ctx=ctx)\n\u001b[0m\u001b[0;32m    505\u001b[0m         \u001b[1;32melse\u001b[0m\u001b[1;33m:\u001b[0m\u001b[1;33m\u001b[0m\u001b[1;33m\u001b[0m\u001b[0m\n\u001b[0;32m    506\u001b[0m           outputs = execute.execute_with_cancellation(\n",
      "\u001b[1;32mc:\\Users\\Siraj\\.conda\\envs\\TinyMLp\\lib\\site-packages\\tensorflow\\python\\eager\\execute.py\u001b[0m in \u001b[0;36mquick_execute\u001b[1;34m(op_name, num_outputs, inputs, attrs, ctx, name)\u001b[0m\n\u001b[0;32m     53\u001b[0m     \u001b[0mctx\u001b[0m\u001b[1;33m.\u001b[0m\u001b[0mensure_initialized\u001b[0m\u001b[1;33m(\u001b[0m\u001b[1;33m)\u001b[0m\u001b[1;33m\u001b[0m\u001b[1;33m\u001b[0m\u001b[0m\n\u001b[0;32m     54\u001b[0m     tensors = pywrap_tfe.TFE_Py_Execute(ctx._handle, device_name, op_name,\n\u001b[1;32m---> 55\u001b[1;33m                                         inputs, attrs, num_outputs)\n\u001b[0m\u001b[0;32m     56\u001b[0m   \u001b[1;32mexcept\u001b[0m \u001b[0mcore\u001b[0m\u001b[1;33m.\u001b[0m\u001b[0m_NotOkStatusException\u001b[0m \u001b[1;32mas\u001b[0m \u001b[0me\u001b[0m\u001b[1;33m:\u001b[0m\u001b[1;33m\u001b[0m\u001b[1;33m\u001b[0m\u001b[0m\n\u001b[0;32m     57\u001b[0m     \u001b[1;32mif\u001b[0m \u001b[0mname\u001b[0m \u001b[1;32mis\u001b[0m \u001b[1;32mnot\u001b[0m \u001b[1;32mNone\u001b[0m\u001b[1;33m:\u001b[0m\u001b[1;33m\u001b[0m\u001b[1;33m\u001b[0m\u001b[0m\n",
      "\u001b[1;31mKeyboardInterrupt\u001b[0m: "
     ]
    }
   ],
   "source": [
    "# Train the model\n",
    "history = model.fit(X_train, y_train,\n",
    "                    epochs=50,  # Adjust the number of epochs as needed\n",
    "                    batch_size=32,\n",
    "                    validation_data=(X_val, y_val),\n",
    "                    callbacks=[early_stopping, checkpoint_callback])\n"
   ]
  },
  {
   "cell_type": "markdown",
   "metadata": {},
   "source": []
  },
  {
   "cell_type": "code",
   "execution_count": null,
   "metadata": {},
   "outputs": [
    {
     "name": "stderr",
     "output_type": "stream",
     "text": [
      "WARNING:absl:Found untraced functions such as _jit_compiled_convolution_op, _jit_compiled_convolution_op while saving (showing 2 of 2). These functions will not be directly callable after loading.\n"
     ]
    },
    {
     "name": "stdout",
     "output_type": "stream",
     "text": [
      "INFO:tensorflow:Assets written to: model\\assets\n"
     ]
    },
    {
     "name": "stderr",
     "output_type": "stream",
     "text": [
      "INFO:tensorflow:Assets written to: model\\assets\n"
     ]
    }
   ],
   "source": [
    "# Save the model in TensorFlow SavedModel format\n",
    "model.save('model')\n",
    "# Save the model in HDF5 format\n",
    "#model.save('model.h5')"
   ]
  },
  {
   "cell_type": "code",
   "execution_count": 21,
   "metadata": {},
   "outputs": [
    {
     "name": "stdout",
     "output_type": "stream",
     "text": [
      "33/33 [==============================] - 5s 139ms/step - loss: 0.4658 - accuracy: 0.8476\n",
      "25/25 [==============================] - 3s 138ms/step - loss: 0.4136 - accuracy: 0.8702\n"
     ]
    }
   ],
   "source": [
    "# Evaluate the model\n",
    "val_loss, val_accuracy = model.evaluate(X_val, y_val)\n",
    "test_loss, test_accuracy = model.evaluate(X_test, y_test)"
   ]
  },
  {
   "cell_type": "code",
   "execution_count": 24,
   "metadata": {},
   "outputs": [],
   "source": [
    "converter = tf.lite.TFLiteConverter.from_saved_model(saved_model_dir)\n",
    "converter.optimizations = [tf.lite.Optimize.DEFAULT]\n",
    "tflite_quant_model = converter.convert()"
   ]
  },
  {
   "cell_type": "code",
   "execution_count": 25,
   "metadata": {},
   "outputs": [
    {
     "name": "stdout",
     "output_type": "stream",
     "text": [
      "TensorFlow Lite model saved to tflite_quant_model.tflite\n"
     ]
    }
   ],
   "source": [
    "# Save the TensorFlow Lite model to disk\n",
    "with open(tflite_model_path, 'wb') as f:\n",
    "    f.write(tflite_quant_model)\n",
    "\n",
    "print(f'TensorFlow Lite model saved to {tflite_model_path}')"
   ]
  },
  {
   "cell_type": "code",
   "execution_count": 28,
   "metadata": {},
   "outputs": [],
   "source": [
    "interpreter = tf.lite.Interpreter(model_path=tflite_model_path)\n",
    "interpreter.allocate_tensors()\n",
    "\n",
    "input_details = interpreter.get_input_details()[0]\n",
    "output_details = interpreter.get_output_details()[0]"
   ]
  },
  {
   "cell_type": "code",
   "execution_count": 29,
   "metadata": {},
   "outputs": [],
   "source": [
    "# Convert data to float32 if not already\n",
    "X_train_val_lite = np.array(X_train_val, dtype=np.float32)\n",
    "X_test_lite = np.array(X_test, dtype=np.float32)\n",
    "\n",
    "# Get input and output details\n",
    "input_details = interpreter.get_input_details()[0]\n",
    "output_details = interpreter.get_output_details()[0]"
   ]
  },
  {
   "cell_type": "code",
   "execution_count": 47,
   "metadata": {},
   "outputs": [],
   "source": [
    "# Assuming X_train_val and X_test are already defined with correct shapes\n",
    "X_train_val_lite = X_train_val.reshape((X_train_val.shape[0], 1025, 32, 1)).astype(np.float32)\n",
    "X_test_lite = X_test.reshape((X_test.shape[0], 1025, 32, 1)).astype(np.float32)"
   ]
  },
  {
   "cell_type": "code",
   "execution_count": 30,
   "metadata": {},
   "outputs": [
    {
     "name": "stdout",
     "output_type": "stream",
     "text": [
      "{'name': 'serving_default_conv2d_input:0', 'index': 0, 'shape': array([   1, 1025,   32,    1]), 'shape_signature': array([  -1, 1025,   32,    1]), 'dtype': <class 'numpy.float32'>, 'quantization': (0.0, 0), 'quantization_parameters': {'scales': array([], dtype=float32), 'zero_points': array([], dtype=int32), 'quantized_dimension': 0}, 'sparsity_parameters': {}}\n",
      "{'name': 'StatefulPartitionedCall:0', 'index': 17, 'shape': array([ 1, 10]), 'shape_signature': array([-1, 10]), 'dtype': <class 'numpy.float32'>, 'quantization': (0.0, 0), 'quantization_parameters': {'scales': array([], dtype=float32), 'zero_points': array([], dtype=int32), 'quantized_dimension': 0}, 'sparsity_parameters': {}}\n"
     ]
    }
   ],
   "source": [
    "print(input_details)\n",
    "print(output_details)"
   ]
  },
  {
   "cell_type": "code",
   "execution_count": 31,
   "metadata": {},
   "outputs": [
    {
     "name": "stdout",
     "output_type": "stream",
     "text": [
      "(1, 1025, 32, 1)\n"
     ]
    }
   ],
   "source": [
    "print(X_train_val_lite[0:1].shape)"
   ]
  },
  {
   "cell_type": "code",
   "execution_count": 32,
   "metadata": {},
   "outputs": [
    {
     "name": "stdout",
     "output_type": "stream",
     "text": [
      "Validation Accuracy: 1.0000\n"
     ]
    }
   ],
   "source": [
    "# Evaluate on validation data\n",
    "interpreter.set_tensor(input_details['index'], X_train_val_lite[2:3])\n",
    "interpreter.invoke()\n",
    "val_predictions = interpreter.get_tensor(output_details['index'])\n",
    "val_accuracy = (np.argmax(val_predictions, axis=1) == y_train_val[2:3]).mean()\n",
    "print(f'Validation Accuracy: {val_accuracy:.4f}')"
   ]
  },
  {
   "cell_type": "code",
   "execution_count": 34,
   "metadata": {},
   "outputs": [],
   "source": [
    "def evaluate_tflite_model(interpreter, X_data, y_data):\n",
    "    # Get input and output details\n",
    "    input_details = interpreter.get_input_details()[0]\n",
    "    output_details = interpreter.get_output_details()[0]\n",
    "\n",
    "    # Initialize variables to accumulate loss and accuracy\n",
    "    total_loss = 0.0\n",
    "    total_accuracy = 0.0\n",
    "    num_samples = len(X_data)\n",
    "\n",
    "    for i in range(num_samples):\n",
    "        interpreter.set_tensor(input_details['index'], X_data[i:i+1])\n",
    "        interpreter.invoke()\n",
    "        \n",
    "        # Get predictions\n",
    "        predictions = interpreter.get_tensor(output_details['index'])\n",
    "\n",
    "        # Compute accuracy\n",
    "        accuracy = (np.argmax(predictions, axis=1) == y_data[i:i+1]).mean()\n",
    "        total_accuracy += accuracy\n",
    "\n",
    "        # Compute loss (using cross-entropy)\n",
    "        y_true = np.eye(predictions.shape[1])[y_data[i:i+1]].astype(np.float32)\n",
    "        y_true = np.expand_dims(y_true, axis=0)  # Add batch dimension to y_true\n",
    "        loss = tf.keras.losses.categorical_crossentropy(y_true[0], predictions).numpy().mean()\n",
    "        total_loss += loss\n",
    "\n",
    "    # Calculate average loss and accuracy\n",
    "    avg_loss = total_loss / num_samples\n",
    "    avg_accuracy = total_accuracy / num_samples\n",
    "\n",
    "    return avg_loss, avg_accuracy"
   ]
  },
  {
   "cell_type": "code",
   "execution_count": 35,
   "metadata": {},
   "outputs": [
    {
     "name": "stdout",
     "output_type": "stream",
     "text": [
      "Validation Loss: 0.6731\n",
      "Validation Accuracy: 0.8480\n",
      "Test Loss: 0.7363\n",
      "Test Accuracy: 0.8432\n"
     ]
    }
   ],
   "source": [
    "# Assuming X_train_val_lite, y_train_val, X_test_lite, and y_test are already defined\n",
    "val_loss, val_accuracy = evaluate_tflite_model(interpreter, X_train_val_lite, y_train_val)\n",
    "test_loss, test_accuracy = evaluate_tflite_model(interpreter, X_test_lite, y_test)\n",
    "\n",
    "print(f'Validation Loss: {val_loss:.4f}')\n",
    "print(f'Validation Accuracy: {val_accuracy:.4f}')\n",
    "print(f'Test Loss: {test_loss:.4f}')\n",
    "print(f'Test Accuracy: {test_accuracy:.4f}')"
   ]
  }
 ],
 "metadata": {
  "kernelspec": {
   "display_name": "base",
   "language": "python",
   "name": "python3"
  },
  "language_info": {
   "codemirror_mode": {
    "name": "ipython",
    "version": 3
   },
   "file_extension": ".py",
   "mimetype": "text/x-python",
   "name": "python",
   "nbconvert_exporter": "python",
   "pygments_lexer": "ipython3",
   "version": "3.7.16"
  }
 },
 "nbformat": 4,
 "nbformat_minor": 2
}
